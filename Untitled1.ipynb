{
  "nbformat": 4,
  "nbformat_minor": 0,
  "metadata": {
    "colab": {
      "provenance": []
    },
    "kernelspec": {
      "name": "python3",
      "display_name": "Python 3"
    },
    "language_info": {
      "name": "python"
    }
  },
  "cells": [
    {
      "cell_type": "code",
      "execution_count": null,
      "metadata": {
        "id": "yCGqn-I-_b6C",
        "outputId": "2ab8837a-4c0e-4679-f7a2-befda3d97c29",
        "colab": {
          "base_uri": "https://localhost:8080/"
        }
      },
      "outputs": [
        {
          "output_type": "stream",
          "name": "stdout",
          "text": [
            "Enter first number: 2\n",
            "Enter second number: 3\n",
            "Choose (1:Add 2:Sub 3:Mul 4:Div): 1\n",
            "Result: 5.0\n"
          ]
        }
      ],
      "source": [
        "def add(a, b): return a + b\n",
        "def sub(a, b): return a - b\n",
        "def mul(a, b): return a * b\n",
        "def div(a, b): return a / b if b != 0 else \"Error! Division by zero.\"\n",
        "\n",
        "a = float(input(\"Enter first number: \"))\n",
        "b = float(input(\"Enter second number: \"))\n",
        "ch = input(\"Choose (1:Add 2:Sub 3:Mul 4:Div): \")\n",
        "\n",
        "if ch == '1': print(\"Result:\", add(a, b))\n",
        "elif ch == '2': print(\"Result:\", sub(a, b))\n",
        "elif ch == '3': print(\"Result:\", mul(a, b))\n",
        "elif ch == '4': print(\"Result:\", div(a, b))\n",
        "else: print(\"Invalid choice\")"
      ]
    }
  ]
}